{
 "cells": [
  {
   "cell_type": "markdown",
   "metadata": {},
   "source": [
    "# CASO GRUPAL: FILTROS ESPACIALES Y MORFOLÓGICOS"
   ]
  },
  {
   "cell_type": "markdown",
   "metadata": {},
   "source": [
    "Primero se usarán filtros y operaciones espaciales, para detectar los bordes de la imagen."
   ]
  },
  {
   "cell_type": "markdown",
   "metadata": {},
   "source": [
    "### Filtros espaciales"
   ]
  },
  {
   "cell_type": "markdown",
   "metadata": {},
   "source": [
    "Para detectar la cantidad de nieve presente en la imagen, se usarán filtros de detección de bordes para segmentarla."
   ]
  },
  {
   "cell_type": "markdown",
   "metadata": {},
   "source": [
    "1. Se importan las librerías necesarias"
   ]
  },
  {
   "cell_type": "code",
   "execution_count": 8,
   "metadata": {},
   "outputs": [],
   "source": [
    "import numpy as np                            #Para arrays\n",
    "import os                                     #Para trabajar en un SO, creando archivos temporales\n",
    "os.sys.path\n",
    "import cv2                                    #Librería OpenCV\n",
    "from matplotlib import pyplot as plt          #Generar gráficos\n",
    "from PIL import Image, ImageFilter            #Edición de imagen\n",
    "import random                                 #Variables aleatorias\n",
    "\n",
    "from skimage import data, img_as_float, io    #Skimage Para el histograma\n",
    "from skimage import exposure"
   ]
  },
  {
   "cell_type": "markdown",
   "metadata": {},
   "source": [
    "2. Referencia: https://es.acervolima.com/segmentacion-de-imagenes-mediante-operaciones-morfologicas-en-python/\n",
    "\n",
    "Se pasa la imagen a blanco y negro, dejando en color blanco el color de la nieve y en negro el resto de componentes (tierra, mar etc)"
   ]
  },
  {
   "cell_type": "code",
   "execution_count": 10,
   "metadata": {},
   "outputs": [
    {
     "data": {
      "text/plain": [
       "-1"
      ]
     },
     "execution_count": 10,
     "metadata": {},
     "output_type": "execute_result"
    }
   ],
   "source": [
    "img1 = cv2.imread('nieve1.png') \n",
    "gray1 = cv2.cvtColor(img1, cv2.COLOR_BGR2GRAY) \n",
    "ret, thresh1 = cv2.threshold(gray1, 0, 255, \n",
    "                            10)\n",
    "                           # cv2.THRESH_OTSU) \n",
    "cv2.imshow('image1', thresh1) \n",
    "\n",
    "img2 = cv2.imread('nieve2.png') \n",
    "  \n",
    "gray2 = cv2.cvtColor(img2, cv2.COLOR_BGR2GRAY) \n",
    "  \n",
    "ret, thresh2 = cv2.threshold(gray2, 0, 255, \n",
    "                            10)\n",
    "                            #cv2.THRESH_OTSU) \n",
    "cv2.imshow('image2', thresh2) \n",
    "cv2.waitKey(0)\n"
   ]
  },
  {
   "cell_type": "code",
   "execution_count": 7,
   "metadata": {},
   "outputs": [
    {
     "name": "stdout",
     "output_type": "stream",
     "text": [
      "477 , 855\n",
      "la cantidad de nieve en la imagen 1 es: 0.04119312957446026\n",
      "la cantidad de nieve en la imagen 2 es: 0.03898635477582846\n"
     ]
    }
   ],
   "source": [
    "number_rows = len(img1)     # source number of rows \n",
    "number_columns = len(img1[0]) \n",
    "\n",
    "print(str(number_rows)+\" , \"+str(number_columns))\n",
    "\n",
    "nieveImg1 = np.sum(img1 == 255) \n",
    "nieveImg2 = np.sum(img2 == 255) \n",
    "\n",
    "porcentajeNieve1 = nieveImg1/(number_rows * number_columns)*100\n",
    "porcentajeNieve2 = nieveImg2/(number_rows * number_columns)*100\n",
    "\n",
    "print(\"la cantidad de nieve en la imagen 1 es: \"+str(porcentajeNieve1))\n",
    "print(\"la cantidad de nieve en la imagen 2 es: \"+str(porcentajeNieve2))\n",
    "  "
   ]
  },
  {
   "cell_type": "code",
   "execution_count": 6,
   "metadata": {},
   "outputs": [
    {
     "data": {
      "text/plain": [
       "-1"
      ]
     },
     "execution_count": 6,
     "metadata": {},
     "output_type": "execute_result"
    }
   ],
   "source": [
    "import cv2\n",
    " \n",
    "# Cargamos la imagen\n",
    "original = cv2.imread('nieve1.png')\n",
    "cv2.imshow(\"original\", original)\n",
    " \n",
    "# Convertimos a escala de grises\n",
    "gris = cv2.cvtColor(original, cv2.COLOR_BGR2GRAY)\n",
    " \n",
    "# Aplicar suavizado Gaussiano\n",
    "gauss = cv2.GaussianBlur(gris, (5,5), 0)\n",
    " \n",
    "cv2.imshow(\"suavizado\", gauss)\n",
    " \n",
    "# Detectamos los bordes con Canny\n",
    "canny = cv2.Canny(gauss, 50, 150)\n",
    " \n",
    "cv2.imshow(\"canny\", canny)\n",
    "\n",
    " \n",
    "# Buscamos los contornos\n",
    "(contornos,_) = cv2.findContours(canny.copy(), cv2.RETR_EXTERNAL, cv2.CHAIN_APPROX_SIMPLE)\n",
    "cv2.drawContours(original,contornos,-1,(0,0,255), 2)\n",
    "cv2.imshow(\"contornos\", original)\n",
    "\n",
    "cv2.waitKey(0)"
   ]
  },
  {
   "cell_type": "markdown",
   "metadata": {},
   "source": [
    "### Filtros morfológicos"
   ]
  },
  {
   "cell_type": "markdown",
   "metadata": {},
   "source": [
    "1. Dilatación"
   ]
  },
  {
   "cell_type": "markdown",
   "metadata": {},
   "source": [
    "2. Erosoión"
   ]
  },
  {
   "cell_type": "markdown",
   "metadata": {},
   "source": [
    "3. Apertura"
   ]
  },
  {
   "cell_type": "markdown",
   "metadata": {},
   "source": [
    "4. Clausura"
   ]
  },
  {
   "cell_type": "markdown",
   "metadata": {},
   "source": [
    "5. Gradiente morfológico"
   ]
  },
  {
   "cell_type": "markdown",
   "metadata": {},
   "source": [
    "6. Top/Bottom hat"
   ]
  },
  {
   "cell_type": "code",
   "execution_count": null,
   "metadata": {},
   "outputs": [],
   "source": []
  }
 ],
 "metadata": {
  "kernelspec": {
   "display_name": "Python 3",
   "language": "python",
   "name": "python3"
  },
  "language_info": {
   "codemirror_mode": {
    "name": "ipython",
    "version": 3
   },
   "file_extension": ".py",
   "mimetype": "text/x-python",
   "name": "python",
   "nbconvert_exporter": "python",
   "pygments_lexer": "ipython3",
   "version": "3.8.5"
  }
 },
 "nbformat": 4,
 "nbformat_minor": 4
}
