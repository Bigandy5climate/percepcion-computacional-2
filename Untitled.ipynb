{
 "cells": [
  {
   "cell_type": "markdown",
   "metadata": {},
   "source": [
    "# CASO GRUPAL: FILTROS ESPACIALES Y MORFOLÓGICOS"
   ]
  },
  {
   "cell_type": "markdown",
   "metadata": {},
   "source": [
    "Primero se usarán filtros y operaciones espaciales, para detectar los bordes de la imagen."
   ]
  },
  {
   "cell_type": "markdown",
   "metadata": {},
   "source": [
    "### Filtros espaciales"
   ]
  },
  {
   "cell_type": "markdown",
   "metadata": {},
   "source": [
    "Para detectar la cantidad de nieve presente en la imagen, se usarán filtros de detección de bordes para segmentarla."
   ]
  },
  {
   "cell_type": "markdown",
   "metadata": {},
   "source": [
    "1. Se importan las librerías necesarias"
   ]
  },
  {
   "cell_type": "code",
   "execution_count": 4,
   "metadata": {},
   "outputs": [
    {
     "ename": "ModuleNotFoundError",
     "evalue": "No module named 'skimage'",
     "output_type": "error",
     "traceback": [
      "\u001b[1;31m---------------------------------------------------------------------------\u001b[0m",
      "\u001b[1;31mModuleNotFoundError\u001b[0m                       Traceback (most recent call last)",
      "Input \u001b[1;32mIn [4]\u001b[0m, in \u001b[0;36m<module>\u001b[1;34m\u001b[0m\n\u001b[0;32m      6\u001b[0m \u001b[38;5;28;01mfrom\u001b[39;00m \u001b[38;5;21;01mPIL\u001b[39;00m \u001b[38;5;28;01mimport\u001b[39;00m Image, ImageFilter            \u001b[38;5;66;03m#Edición de imagen\u001b[39;00m\n\u001b[0;32m      7\u001b[0m \u001b[38;5;28;01mimport\u001b[39;00m \u001b[38;5;21;01mrandom\u001b[39;00m                                 \u001b[38;5;66;03m#Variables aleatorias\u001b[39;00m\n\u001b[1;32m----> 9\u001b[0m \u001b[38;5;28;01mfrom\u001b[39;00m \u001b[38;5;21;01mskimage\u001b[39;00m \u001b[38;5;28;01mimport\u001b[39;00m data, img_as_float, io    \u001b[38;5;66;03m#Skimage Para el histograma\u001b[39;00m\n\u001b[0;32m     10\u001b[0m \u001b[38;5;28;01mfrom\u001b[39;00m \u001b[38;5;21;01mskimage\u001b[39;00m \u001b[38;5;28;01mimport\u001b[39;00m exposure\n",
      "\u001b[1;31mModuleNotFoundError\u001b[0m: No module named 'skimage'"
     ]
    }
   ],
   "source": [
    "import numpy as np                            #Para arrays\n",
    "import os                                     #Para trabajar en un SO, creando archivos temporales\n",
    "os.sys.path\n",
    "import cv2                                    #Librería OpenCV\n",
    "from matplotlib import pyplot as plt          #Generar gráficos\n",
    "from PIL import Image, ImageFilter            #Edición de imagen\n",
    "import random                                 #Variables aleatorias\n",
    "\n",
    "from skimage import data, img_as_float, io    #Skimage Para el histograma\n",
    "from skimage import exposure"
   ]
  },
  {
   "cell_type": "markdown",
   "metadata": {},
   "source": [
    "2. Referencia: https://es.acervolima.com/segmentacion-de-imagenes-mediante-operaciones-morfologicas-en-python/\n",
    "\n",
    "Se pasa la imagen a blanco y negro, dejando en color blanco el color de la nieve y en negro el resto de componentes (tierra, mar etc)"
   ]
  },
  {
   "cell_type": "code",
   "execution_count": null,
   "metadata": {},
   "outputs": [
    {
     "ename": "error",
     "evalue": "OpenCV(4.5.4-dev) D:\\a\\opencv-python\\opencv-python\\opencv\\modules\\highgui\\src\\window.cpp:1274: error: (-2:Unspecified error) The function is not implemented. Rebuild the library with Windows, GTK+ 2.x or Cocoa support. If you are on Ubuntu or Debian, install libgtk2.0-dev and pkg-config, then re-run cmake or configure script in function 'cvShowImage'\n",
     "output_type": "error",
     "traceback": [
      "\u001b[1;31m---------------------------------------------------------------------------\u001b[0m",
      "\u001b[1;31merror\u001b[0m                                     Traceback (most recent call last)",
      "\u001b[1;32m~\\AppData\\Local\\Temp/ipykernel_2348/2215750368.py\u001b[0m in \u001b[0;36m<module>\u001b[1;34m\u001b[0m\n\u001b[0;32m      4\u001b[0m                             10)\n\u001b[0;32m      5\u001b[0m                            \u001b[1;31m# cv2.THRESH_OTSU)\u001b[0m\u001b[1;33m\u001b[0m\u001b[1;33m\u001b[0m\u001b[0m\n\u001b[1;32m----> 6\u001b[1;33m \u001b[0mcv2\u001b[0m\u001b[1;33m.\u001b[0m\u001b[0mimshow\u001b[0m\u001b[1;33m(\u001b[0m\u001b[1;34m'image1'\u001b[0m\u001b[1;33m,\u001b[0m \u001b[0mthresh1\u001b[0m\u001b[1;33m)\u001b[0m\u001b[1;33m\u001b[0m\u001b[1;33m\u001b[0m\u001b[0m\n\u001b[0m\u001b[0;32m      7\u001b[0m \u001b[1;33m\u001b[0m\u001b[0m\n\u001b[0;32m      8\u001b[0m \u001b[0mimg2\u001b[0m \u001b[1;33m=\u001b[0m \u001b[0mcv2\u001b[0m\u001b[1;33m.\u001b[0m\u001b[0mimread\u001b[0m\u001b[1;33m(\u001b[0m\u001b[1;34m'nieve2.png'\u001b[0m\u001b[1;33m)\u001b[0m\u001b[1;33m\u001b[0m\u001b[1;33m\u001b[0m\u001b[0m\n",
      "\u001b[1;31merror\u001b[0m: OpenCV(4.5.4-dev) D:\\a\\opencv-python\\opencv-python\\opencv\\modules\\highgui\\src\\window.cpp:1274: error: (-2:Unspecified error) The function is not implemented. Rebuild the library with Windows, GTK+ 2.x or Cocoa support. If you are on Ubuntu or Debian, install libgtk2.0-dev and pkg-config, then re-run cmake or configure script in function 'cvShowImage'\n"
     ]
    }
   ],
   "source": [
    "img1 = cv2.imread('nieve1.png') \n",
    "gray1 = cv2.cvtColor(img1, cv2.COLOR_BGR2GRAY) \n",
    "ret, thresh1 = cv2.threshold(gray1, 0, 255, \n",
    "                            10)\n",
    "                           # cv2.THRESH_OTSU) \n",
    "cv2.imshow('image1', thresh1) \n",
    "\n",
    "img2 = cv2.imread('nieve2.png') \n",
    "  \n",
    "gray2 = cv2.cvtColor(img2, cv2.COLOR_BGR2GRAY) \n",
    "  \n",
    "ret, thresh2 = cv2.threshold(gray2, 0, 255, \n",
    "                            10)\n",
    "                            #cv2.THRESH_OTSU) \n",
    "cv2.imshow('image2', thresh2) \n",
    "cv2.waitKey(0)\n"
   ]
  },
  {
   "cell_type": "code",
   "execution_count": null,
   "metadata": {},
   "outputs": [
    {
     "name": "stdout",
     "output_type": "stream",
     "text": [
      "477 , 855\n",
      "la cantidad de nieve en la imagen 1 es: 0.04119312957446026\n",
      "la cantidad de nieve en la imagen 2 es: 0.03898635477582846\n"
     ]
    }
   ],
   "source": [
    "number_rows = len(img1)     # source number of rows \n",
    "number_columns = len(img1[0]) \n",
    "\n",
    "print(str(number_rows)+\" , \"+str(number_columns))\n",
    "\n",
    "nieveImg1 = np.sum(img1 == 255) \n",
    "nieveImg2 = np.sum(img2 == 255) \n",
    "\n",
    "porcentajeNieve1 = nieveImg1/(number_rows * number_columns)*100\n",
    "porcentajeNieve2 = nieveImg2/(number_rows * number_columns)*100\n",
    "\n",
    "print(\"la cantidad de nieve en la imagen 1 es: \"+str(porcentajeNieve1))\n",
    "print(\"la cantidad de nieve en la imagen 2 es: \"+str(porcentajeNieve2))\n",
    "  "
   ]
  },
  {
   "cell_type": "code",
   "execution_count": null,
   "metadata": {},
   "outputs": [
    {
     "data": {
      "text/plain": [
       "-1"
      ]
     },
     "execution_count": 6,
     "metadata": {},
     "output_type": "execute_result"
    }
   ],
   "source": [
    "import cv2\n",
    " \n",
    "# Cargamos la imagen\n",
    "original = cv2.imread('nieve1.png')\n",
    "cv2.imshow(\"original\", original)\n",
    " \n",
    "# Convertimos a escala de grises\n",
    "gris = cv2.cvtColor(original, cv2.COLOR_BGR2GRAY)\n",
    " \n",
    "# Aplicar suavizado Gaussiano\n",
    "gauss = cv2.GaussianBlur(gris, (5,5), 0)\n",
    " \n",
    "cv2.imshow(\"suavizado\", gauss)\n",
    " \n",
    "# Detectamos los bordes con Canny\n",
    "canny = cv2.Canny(gauss, 50, 150)\n",
    " \n",
    "cv2.imshow(\"canny\", canny)\n",
    "\n",
    " \n",
    "# Buscamos los contornos\n",
    "(contornos,_) = cv2.findContours(canny.copy(), cv2.RETR_EXTERNAL, cv2.CHAIN_APPROX_SIMPLE)\n",
    "cv2.drawContours(original,contornos,-1,(0,0,255), 2)\n",
    "cv2.imshow(\"contornos\", original)\n",
    "\n",
    "cv2.waitKey(0)"
   ]
  },
  {
   "cell_type": "markdown",
   "metadata": {},
   "source": [
    "### Filtros morfológicos"
   ]
  },
  {
   "cell_type": "markdown",
   "metadata": {},
   "source": [
    "1. Dilatación"
   ]
  },
  {
   "cell_type": "markdown",
   "metadata": {},
   "source": [
    "2. Erosoión"
   ]
  },
  {
   "cell_type": "markdown",
   "metadata": {},
   "source": [
    "3. Apertura"
   ]
  },
  {
   "cell_type": "markdown",
   "metadata": {},
   "source": [
    "4. Clausura"
   ]
  },
  {
   "cell_type": "markdown",
   "metadata": {},
   "source": [
    "5. Gradiente morfológico"
   ]
  },
  {
   "cell_type": "markdown",
   "metadata": {},
   "source": [
    "6. Top/Bottom hat"
   ]
  },
  {
   "cell_type": "code",
   "execution_count": null,
   "metadata": {},
   "outputs": [],
   "source": []
  }
 ],
 "metadata": {
  "kernelspec": {
   "display_name": "Python 3",
   "language": "python",
   "name": "python3"
  },
  "language_info": {
   "codemirror_mode": {
    "name": "ipython",
    "version": 3
   },
   "file_extension": ".py",
   "mimetype": "text/x-python",
   "name": "python",
   "nbconvert_exporter": "python",
   "pygments_lexer": "ipython3",
   "version": "3.9.10"
  }
 },
 "nbformat": 4,
 "nbformat_minor": 4
}
