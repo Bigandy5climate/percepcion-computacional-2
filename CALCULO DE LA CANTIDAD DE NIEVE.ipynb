{
 "cells": [
  {
   "cell_type": "markdown",
   "metadata": {},
   "source": [
    "# CASO GRUPAL: FILTROS ESPACIALES Y MORFOLÓGICOS"
   ]
  },
  {
   "cell_type": "markdown",
   "metadata": {},
   "source": [
    "1. Se importan las librerías necesarias"
   ]
  },
  {
   "cell_type": "code",
   "execution_count": 10,
   "metadata": {},
   "outputs": [],
   "source": [
    "import cv2  # Librería OpenCV\n",
    "import numpy as np  # Para arrays"
   ]
  },
  {
   "cell_type": "markdown",
   "metadata": {},
   "source": [
    "2. Se realizará la umbralización de la imagen."
   ]
  },
  {
   "cell_type": "code",
   "execution_count": 11,
   "metadata": {},
   "outputs": [],
   "source": [
    "# Umbralización\n",
    "\n",
    "gray1 = cv2.imread('nieve1.PNG', 0)\n",
    "ret, thresh1 = cv2.threshold(gray1, 200, 255, cv2.THRESH_BINARY)\n",
    "# cv2.imshow('1', thresh1)\n",
    "# cv2.waitKey(0)\n",
    "\n",
    "gray2 = cv2.imread('nieve2.PNG', 0)\n",
    "ret, thresh2 = cv2.threshold(gray2, 200, 255, cv2.THRESH_BINARY)\n",
    "# cv2.imshow('2', thresh2)\n",
    "# cv2.waitKey(0)\n",
    "gray3 = cv2.imread('Mylius1.PNG', 0)\n",
    "ret, thresh3 = cv2.threshold(gray3, 200, 255, cv2.THRESH_BINARY)\n",
    "# cv2.imshow('1', thresh1)\n",
    "# cv2.waitKey(0)\n",
    "\n",
    "gray4 = cv2.imread('Mylius2.PNG', 0)\n",
    "ret, thresh4 = cv2.threshold(gray4, 200, 255, cv2.THRESH_BINARY)\n",
    "# cv2.imshow('2', thresh2)\n",
    "# cv2.waitKey(0)"
   ]
  },
  {
   "cell_type": "markdown",
   "metadata": {},
   "source": [
    "3. Dado que en la umbralización realizada, se ha detectado en color blanco la nieve existente en la imagen y el texto de su procedencia, siendo este texto el correspondiente ruido detectado en la imagen, se procederá a eliminarlo mediante el filtro de Apertura, formado por una de erosión seguido de una dilatación."
   ]
  },
  {
   "cell_type": "code",
   "execution_count": 12,
   "metadata": {},
   "outputs": [
    {
     "data": {
      "text/plain": [
       "-1"
      ]
     },
     "execution_count": 12,
     "metadata": {},
     "output_type": "execute_result"
    }
   ],
   "source": [
    "# Primeramente se defiene los kernels que se van a usar: \n",
    "\n",
    "#Un kernel de dimensiones 5x5 y forma ovalada para rebajar los bordes\n",
    "kernel = np.array(\n",
    "    [[0, 0, 1, 0, 0],\n",
    "     [1, 1, 1, 1, 1],\n",
    "     [1, 1, 1, 1, 1],\n",
    "     [1, 1, 1, 1, 1],\n",
    "     [0, 0, 1, 0, 0]], np.uint8) \n",
    "\n",
    "#Un kernel de dimensiones 3x3 y forma de diamante para rebajar los bordes\n",
    "kernelpequeno = np.array( \n",
    "    [[0, 1, 0],\n",
    "     [1, 1, 1],\n",
    "     [0, 1, 0],], np.uint8)\n",
    "\n",
    "kernelmini = np.array( \n",
    "    1, np.uint8)\n",
    "\n",
    "# APERTURA:\n",
    "\n",
    "    # 1. Erosión \n",
    "\n",
    "eroded1 = cv2.erode(thresh1, kernelpequeno, iterations=1)\n",
    "eroded1 = cv2.erode(eroded1, kernelmini, iterations=1)\n",
    "#cv2.imshow('4', eroded)\n",
    "# cv2.waitKey(0)\n",
    "eroded2 = cv2.erode(thresh2, kernelpequeno, iterations=1)\n",
    "#cv2.imshow('4', eroded)\n",
    "# cv2.waitKey(0)\n",
    "\n",
    "eroded3 = cv2.erode(thresh3, kernelpequeno, iterations=1)\n",
    "#cv2.imshow('4', eroded)\n",
    "# cv2.waitKey(0)\n",
    "eroded4 = cv2.erode(thresh4, kernelpequeno, iterations=1)\n",
    "#cv2.imshow('4', eroded)\n",
    "# cv2.waitKey(0)\n",
    "\n",
    "\n",
    "    # 2. Dilatación\n",
    "\n",
    "dilatado1 = cv2.dilate(eroded1, kernelpequeno, iterations=1)\n",
    "cv2.imshow('Erosion y Dilatacion - Alaska 1980', eroded1)\n",
    "cv2.waitKey(0)\n",
    "dilatado2 = cv2.dilate(eroded2, kernelpequeno, iterations=1)\n",
    "cv2.imshow('Erosion y Dilatacion - Alaska 2020', eroded2)\n",
    "cv2.waitKey(0)\n",
    "dilatado3 = cv2.dilate(eroded3, kernelpequeno, iterations=1)\n",
    "cv2.imshow('Erosion y Dilatacion - Columbia 1980', eroded3)\n",
    "cv2.waitKey(0)\n",
    "dilatado4 = cv2.dilate(eroded4, kernelpequeno, iterations=1)\n",
    "cv2.imshow('Erosion y Dilatacion - Columbia 2020', eroded4)\n",
    "cv2.waitKey(0)"
   ]
  },
  {
   "cell_type": "markdown",
   "metadata": {},
   "source": [
    "4. Finalemnte, para calcular el porcentaje de deshielo de la nieve, se compararán los porcentajes de nieve existenten en 1980 con sus respectivos porcentajes en 2020 "
   ]
  },
  {
   "cell_type": "code",
   "execution_count": 13,
   "metadata": {},
   "outputs": [
    {
     "name": "stdout",
     "output_type": "stream",
     "text": [
      "477\n",
      "855\n",
      "75937\n",
      "La cantidad de nieve en Alaska 1980 es: 18.619539764855887\n",
      "La cantidad de nieve en Alaska 2020 es: 11.984763579093872\n",
      "La cantidad de nieve en Columbia 1980 es: 36.53749004216294\n",
      "La cantidad de nieve en Columbia 2020 es: 22.26570500629078\n"
     ]
    }
   ],
   "source": [
    "alaska1rows = len(gray1)\n",
    "print(alaska1rows)\n",
    "alaska1cols = len(gray1[0])\n",
    "print(alaska1cols)\n",
    "\n",
    "columbia1rows = len(gray3)\n",
    "columbia1cols = len(gray3[0])\n",
    "\n",
    "alaska2rows = len(gray2)\n",
    "alaska2cols = len(gray2[0])\n",
    "\n",
    "columbia2rows = len(gray4)\n",
    "columbia2cols = len(gray4[0])\n",
    "\n",
    "\n",
    "nieveAlaska1 = np.sum(dilatado1 == 255)\n",
    "print(nieveAlaska1)\n",
    "nieveAlaska2 = np.sum(dilatado2 == 255)\n",
    "\n",
    "nieveColumbia1 = np.sum(dilatado3 == 255)\n",
    "nieveColumbia2 = np.sum(dilatado4 == 255)\n",
    "\n",
    "\n",
    "porcentajeAlaska1 = nieveAlaska1/(alaska1cols * alaska1rows)*100\n",
    "porcentajeAlaska2 = nieveAlaska2/(alaska2cols * alaska2rows)*100\n",
    "\n",
    "\n",
    "porcentajeColumbia1 = nieveColumbia1/(columbia1cols * columbia1rows)*100\n",
    "porcentajeColumbia2 = nieveColumbia2/(columbia2cols * columbia2rows)*100\n",
    "\n",
    "print(\"La cantidad de nieve en Alaska 1980 es: \"+str(porcentajeAlaska1))\n",
    "print(\"La cantidad de nieve en Alaska 2020 es: \"+str(porcentajeAlaska2))\n",
    "print(\"La cantidad de nieve en Columbia 1980 es: \"+str(porcentajeColumbia1))\n",
    "print(\"La cantidad de nieve en Columbia 2020 es: \"+str(porcentajeColumbia2))\n"
   ]
  },
  {
   "cell_type": "code",
   "execution_count": 14,
   "metadata": {},
   "outputs": [
    {
     "data": {
      "text/plain": [
       "-1"
      ]
     },
     "execution_count": 14,
     "metadata": {},
     "output_type": "execute_result"
    }
   ],
   "source": [
    "kernel = np.array(\n",
    "[\n",
    "[1,1,1,1,1,1,1,1,1,1,1,1,1,1,1,1,1,1,1,1],\n",
    "[1,0,0,0,0,0,0,0,0,0,0,0,0,1,1,1,1,1,1,1],\n",
    "[1,0,0,0,0,0,0,0,0,0,0,0,0,1,1,1,1,1,1,1],\n",
    "[1,0,0,0,0,0,0,0,0,0,0,0,0,1,1,1,1,1,1,1],\n",
    "[1,0,0,0,0,0,0,0,0,0,0,0,0,1,1,1,1,1,1,1],\n",
    "[1,1,1,1,1,1,1,1,1,1,1,1,1,1,1,1,1,1,1,1]], np.uint8)\n",
    "\n",
    "filtered=cv2.filter2D(gray1,-1,kernel)\n",
    "cv2.imshow('5',filtered)\n",
    "cv2.waitKey(0)"
   ]
  }
 ],
 "metadata": {
  "kernelspec": {
   "display_name": "Python 3",
   "language": "python",
   "name": "python3"
  },
  "language_info": {
   "codemirror_mode": {
    "name": "ipython",
    "version": 3
   },
   "file_extension": ".py",
   "mimetype": "text/x-python",
   "name": "python",
   "nbconvert_exporter": "python",
   "pygments_lexer": "ipython3",
   "version": "3.9.10"
  }
 },
 "nbformat": 4,
 "nbformat_minor": 4
}
